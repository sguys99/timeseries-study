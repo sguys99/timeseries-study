{
 "cells": [
  {
   "attachments": {},
   "cell_type": "markdown",
   "metadata": {},
   "source": [
    "## How to use Transformer Networks to build a Forecasting model: plot images\n",
    "- https://towardsdatascience.com/how-to-use-transformer-networks-to-build-a-forecasting-model-297f9270e630"
   ]
  },
  {
   "attachments": {},
   "cell_type": "markdown",
   "metadata": {},
   "source": [
    "<div style=\"text-align: right\"> <b>Author : Kwang Myung Yu</b></div>\n",
    "<div style=\"text-align: right\"> Initial upload: 2023.11.06</div>\n",
    "<div style=\"text-align: right\"> Last update: 2023.11.06</div>"
   ]
  },
  {
   "cell_type": "code",
   "execution_count": 1,
   "metadata": {},
   "outputs": [],
   "source": [
    "import datetime\n",
    "import sys\n",
    "import os\n",
    "import numpy as np\n",
    "import pandas as pd\n",
    "import matplotlib.pyplot as plt\n",
    "import warnings; warnings.filterwarnings('ignore')\n",
    "plt.style.use('seaborn-v0_8-whitegrid')\n",
    "%matplotlib inline\n",
    "# print(plt.stype.available)\n",
    "\n",
    "# Options for pandas\n",
    "pd.options.display.max_columns = 30"
   ]
  },
  {
   "cell_type": "code",
   "execution_count": 2,
   "metadata": {},
   "outputs": [],
   "source": [
    "import json\n",
    "from tqdm import tqdm\n",
    "import pytorch_lightning as pl\n",
    "import torch\n",
    "import torch.nn as nn\n",
    "from torchinfo import summary\n",
    "from model import TimeSeriesForcasting\n",
    "from train_utils import split_df, Dataset\n",
    "from evaluation import evaluate_regression"
   ]
  },
  {
   "cell_type": "code",
   "execution_count": 3,
   "metadata": {},
   "outputs": [],
   "source": [
    "data_csv_path = \"data/processed_data.csv\"\n",
    "feature_target_names_path = \"data/config.json\"\n",
    "trained_json_path = \"models/trained_config.json\"\n",
    "eval_json_path = \"data/eval.json\"\n",
    "data_for_visualization_path = \"data/visualization.json\""
   ]
  },
  {
   "cell_type": "code",
   "execution_count": 4,
   "metadata": {},
   "outputs": [],
   "source": [
    "with open(\"data/visualization.json\", \"r\") as f:\n",
    "    data = json.load(f)"
   ]
  },
  {
   "cell_type": "code",
   "execution_count": 5,
   "metadata": {},
   "outputs": [
    {
     "data": {
      "text/plain": [
       "100"
      ]
     },
     "execution_count": 5,
     "metadata": {},
     "output_type": "execute_result"
    }
   ],
   "source": [
    "len(data)"
   ]
  },
  {
   "cell_type": "code",
   "execution_count": 6,
   "metadata": {},
   "outputs": [
    {
     "data": {
      "text/plain": [
       "dict_keys(['history', 'ground_truth', 'prediction'])"
      ]
     },
     "execution_count": 6,
     "metadata": {},
     "output_type": "execute_result"
    }
   ],
   "source": [
    "data[0].keys()"
   ]
  },
  {
   "cell_type": "code",
   "execution_count": 7,
   "metadata": {},
   "outputs": [],
   "source": [
    "os.makedirs(\"data/images\", exist_ok=True)\n",
    "\n",
    "for i, sample in enumerate(data):\n",
    "    hist_size = len(sample[\"history\"])\n",
    "    gt_size = len(sample[\"ground_truth\"])\n",
    "    plt.figure()\n",
    "    plt.plot(range(hist_size), sample[\"history\"], label=\"History\")\n",
    "    plt.plot(\n",
    "            range(hist_size, hist_size + gt_size), sample[\"ground_truth\"], label=\"Ground Truth\"\n",
    "        )\n",
    "    plt.plot(\n",
    "            range(hist_size, hist_size + gt_size), sample[\"prediction\"], label=\"Prediction\"\n",
    "        )\n",
    "\n",
    "    plt.xlabel(\"Time\")\n",
    "\n",
    "    plt.ylabel(\"Time Series\")\n",
    "\n",
    "    plt.legend()\n",
    "\n",
    "    plt.savefig(f\"data/images/{i}.png\")\n",
    "    plt.close()"
   ]
  },
  {
   "cell_type": "code",
   "execution_count": null,
   "metadata": {},
   "outputs": [],
   "source": []
  }
 ],
 "metadata": {
  "kernelspec": {
   "display_name": "torch",
   "language": "python",
   "name": "python3"
  },
  "language_info": {
   "codemirror_mode": {
    "name": "ipython",
    "version": 3
   },
   "file_extension": ".py",
   "mimetype": "text/x-python",
   "name": "python",
   "nbconvert_exporter": "python",
   "pygments_lexer": "ipython3",
   "version": "3.10.8"
  },
  "orig_nbformat": 4
 },
 "nbformat": 4,
 "nbformat_minor": 2
}
