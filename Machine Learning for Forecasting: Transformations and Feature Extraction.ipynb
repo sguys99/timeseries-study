{
 "cells": [
  {
   "attachments": {},
   "cell_type": "markdown",
   "metadata": {},
   "source": [
    "## Machine Learning for Forecasting: Transformations and Feature Extraction\n",
    "- https://towardsdatascience.com/machine-learning-for-forecasting-transformations-and-feature-extraction-bbbea9de0ac2\n",
    "- ml기반 시계열예측 1번째 포스트"
   ]
  },
  {
   "attachments": {},
   "cell_type": "markdown",
   "metadata": {},
   "source": [
    "<div style=\"text-align: right\"> <b>Author : Kwang Myung Yu</b></div>\n",
    "<div style=\"text-align: right\"> Initial upload: 2023.6.25</div>\n",
    "<div style=\"text-align: right\"> Last update: 2023.6.25</div>"
   ]
  },
  {
   "cell_type": "code",
   "execution_count": 1,
   "metadata": {},
   "outputs": [],
   "source": [
    "import re\n",
    "import sys\n",
    "import os\n",
    "import numpy as np\n",
    "import pandas as pd\n",
    "import matplotlib.pyplot as plt\n",
    "import warnings; warnings.filterwarnings('ignore')\n",
    "plt.style.use('seaborn-v0_8-whitegrid')\n",
    "%matplotlib inline\n",
    "# print(plt.stype.available)\n",
    "\n",
    "# Options for pandas\n",
    "pd.options.display.max_columns = 30"
   ]
  },
  {
   "attachments": {},
   "cell_type": "markdown",
   "metadata": {},
   "source": [
    "- transforming time series from a sequence into a tabular format;\n",
    "- adding new features based on summary statistics.\n"
   ]
  },
  {
   "cell_type": "code",
   "execution_count": 2,
   "metadata": {},
   "outputs": [],
   "source": [
    "def time_delay_embedding(\n",
    "    series: pd.Series,\n",
    "    n_lags: int,\n",
    "    horizon: int\n",
    "):\n",
    "    \"\"\"\n",
    "    Time delay embedding\n",
    "    Time series for supervised learning\n",
    "    :param series: time series as pd.Series\n",
    "    :param n_lags: number of past values to used as explanatory variables\n",
    "    :param horizon: how many values to forecast\n",
    "    :return: pd.DataFrame with reconstructed time series\n",
    "    \"\"\"\n",
    "    assert isinstance(series, pd.Series)\n",
    "    \n",
    "    if series.name is None:\n",
    "        name = 'Series'\n",
    "    else:\n",
    "        name = series.name\n",
    "        \n",
    "    n_lags_iter = list(range(n_lags, -horizon, -1))\n",
    "    \n",
    "    X = [series.shift(i) for i in n_lags_iter]\n",
    "    X = pd.concat(X, axis = 1).dropna()\n",
    "    X.columns =[f'{name}(t-{j - 1})'\n",
    "                 if j > 0 else f'{name}(t+{np.abs(j) + 1})'\n",
    "                 for j in n_lags_iter]\n",
    "    \n",
    "    return X\n",
    "        "
   ]
  },
  {
   "cell_type": "code",
   "execution_count": 3,
   "metadata": {},
   "outputs": [
    {
     "data": {
      "text/plain": [
       "0    0\n",
       "1    1\n",
       "2    2\n",
       "3    3\n",
       "4    4\n",
       "5    5\n",
       "6    6\n",
       "7    7\n",
       "8    8\n",
       "9    9\n",
       "dtype: int64"
      ]
     },
     "execution_count": 3,
     "metadata": {},
     "output_type": "execute_result"
    }
   ],
   "source": [
    "test = pd.Series([i for i in range(10)])\n",
    "test"
   ]
  },
  {
   "cell_type": "code",
   "execution_count": 4,
   "metadata": {},
   "outputs": [
    {
     "data": {
      "text/html": [
       "<div>\n",
       "<style scoped>\n",
       "    .dataframe tbody tr th:only-of-type {\n",
       "        vertical-align: middle;\n",
       "    }\n",
       "\n",
       "    .dataframe tbody tr th {\n",
       "        vertical-align: top;\n",
       "    }\n",
       "\n",
       "    .dataframe thead th {\n",
       "        text-align: right;\n",
       "    }\n",
       "</style>\n",
       "<table border=\"1\" class=\"dataframe\">\n",
       "  <thead>\n",
       "    <tr style=\"text-align: right;\">\n",
       "      <th></th>\n",
       "      <th>Series(t-3)</th>\n",
       "      <th>Series(t-2)</th>\n",
       "      <th>Series(t-1)</th>\n",
       "      <th>Series(t-0)</th>\n",
       "      <th>Series(t+1)</th>\n",
       "    </tr>\n",
       "  </thead>\n",
       "  <tbody>\n",
       "    <tr>\n",
       "      <th>4</th>\n",
       "      <td>0.0</td>\n",
       "      <td>1.0</td>\n",
       "      <td>2.0</td>\n",
       "      <td>3.0</td>\n",
       "      <td>4</td>\n",
       "    </tr>\n",
       "    <tr>\n",
       "      <th>5</th>\n",
       "      <td>1.0</td>\n",
       "      <td>2.0</td>\n",
       "      <td>3.0</td>\n",
       "      <td>4.0</td>\n",
       "      <td>5</td>\n",
       "    </tr>\n",
       "    <tr>\n",
       "      <th>6</th>\n",
       "      <td>2.0</td>\n",
       "      <td>3.0</td>\n",
       "      <td>4.0</td>\n",
       "      <td>5.0</td>\n",
       "      <td>6</td>\n",
       "    </tr>\n",
       "    <tr>\n",
       "      <th>7</th>\n",
       "      <td>3.0</td>\n",
       "      <td>4.0</td>\n",
       "      <td>5.0</td>\n",
       "      <td>6.0</td>\n",
       "      <td>7</td>\n",
       "    </tr>\n",
       "    <tr>\n",
       "      <th>8</th>\n",
       "      <td>4.0</td>\n",
       "      <td>5.0</td>\n",
       "      <td>6.0</td>\n",
       "      <td>7.0</td>\n",
       "      <td>8</td>\n",
       "    </tr>\n",
       "    <tr>\n",
       "      <th>9</th>\n",
       "      <td>5.0</td>\n",
       "      <td>6.0</td>\n",
       "      <td>7.0</td>\n",
       "      <td>8.0</td>\n",
       "      <td>9</td>\n",
       "    </tr>\n",
       "  </tbody>\n",
       "</table>\n",
       "</div>"
      ],
      "text/plain": [
       "   Series(t-3)  Series(t-2)  Series(t-1)  Series(t-0)  Series(t+1)\n",
       "4          0.0          1.0          2.0          3.0            4\n",
       "5          1.0          2.0          3.0          4.0            5\n",
       "6          2.0          3.0          4.0          5.0            6\n",
       "7          3.0          4.0          5.0          6.0            7\n",
       "8          4.0          5.0          6.0          7.0            8\n",
       "9          5.0          6.0          7.0          8.0            9"
      ]
     },
     "execution_count": 4,
     "metadata": {},
     "output_type": "execute_result"
    }
   ],
   "source": [
    "time_delay_embedding(test, 4, 1)"
   ]
  },
  {
   "attachments": {},
   "cell_type": "markdown",
   "metadata": {},
   "source": [
    "실제 모델로 진행해보기"
   ]
  },
  {
   "cell_type": "code",
   "execution_count": 5,
   "metadata": {},
   "outputs": [],
   "source": [
    "from sklearn.model_selection import train_test_split\n",
    "from sklearn.ensemble import RandomForestRegressor\n",
    "from sklearn.metrics import mean_absolute_error as mae\n",
    "from pmdarima.datasets import load_sunspots"
   ]
  },
  {
   "cell_type": "code",
   "execution_count": 6,
   "metadata": {},
   "outputs": [],
   "source": [
    "series = load_sunspots(as_series=True).diff() # 안정된 평균을 구하기 위해 1차 차분을 받아옴"
   ]
  },
  {
   "cell_type": "code",
   "execution_count": 7,
   "metadata": {},
   "outputs": [
    {
     "data": {
      "text/plain": [
       "Jan 1749     NaN\n",
       "Feb 1749     4.6\n",
       "Mar 1749     7.4\n",
       "Apr 1749   -14.3\n",
       "May 1749    29.3\n",
       "dtype: float64"
      ]
     },
     "execution_count": 7,
     "metadata": {},
     "output_type": "execute_result"
    }
   ],
   "source": [
    "series.head()"
   ]
  },
  {
   "cell_type": "code",
   "execution_count": 8,
   "metadata": {},
   "outputs": [
    {
     "data": {
      "text/html": [
       "<div>\n",
       "<style scoped>\n",
       "    .dataframe tbody tr th:only-of-type {\n",
       "        vertical-align: middle;\n",
       "    }\n",
       "\n",
       "    .dataframe tbody tr th {\n",
       "        vertical-align: top;\n",
       "    }\n",
       "\n",
       "    .dataframe thead th {\n",
       "        text-align: right;\n",
       "    }\n",
       "</style>\n",
       "<table border=\"1\" class=\"dataframe\">\n",
       "  <thead>\n",
       "    <tr style=\"text-align: right;\">\n",
       "      <th></th>\n",
       "      <th>Series(t-2)</th>\n",
       "      <th>Series(t-1)</th>\n",
       "      <th>Series(t-0)</th>\n",
       "      <th>Series(t+1)</th>\n",
       "    </tr>\n",
       "  </thead>\n",
       "  <tbody>\n",
       "    <tr>\n",
       "      <th>May 1749</th>\n",
       "      <td>4.6</td>\n",
       "      <td>7.4</td>\n",
       "      <td>-14.3</td>\n",
       "      <td>29.3</td>\n",
       "    </tr>\n",
       "    <tr>\n",
       "      <th>Jun 1749</th>\n",
       "      <td>7.4</td>\n",
       "      <td>-14.3</td>\n",
       "      <td>29.3</td>\n",
       "      <td>-1.5</td>\n",
       "    </tr>\n",
       "    <tr>\n",
       "      <th>Jul 1749</th>\n",
       "      <td>-14.3</td>\n",
       "      <td>29.3</td>\n",
       "      <td>-1.5</td>\n",
       "      <td>11.3</td>\n",
       "    </tr>\n",
       "    <tr>\n",
       "      <th>Aug 1749</th>\n",
       "      <td>29.3</td>\n",
       "      <td>-1.5</td>\n",
       "      <td>11.3</td>\n",
       "      <td>-28.5</td>\n",
       "    </tr>\n",
       "    <tr>\n",
       "      <th>Sep 1749</th>\n",
       "      <td>-1.5</td>\n",
       "      <td>11.3</td>\n",
       "      <td>-28.5</td>\n",
       "      <td>9.6</td>\n",
       "    </tr>\n",
       "    <tr>\n",
       "      <th>...</th>\n",
       "      <td>...</td>\n",
       "      <td>...</td>\n",
       "      <td>...</td>\n",
       "      <td>...</td>\n",
       "    </tr>\n",
       "    <tr>\n",
       "      <th>Aug 1983</th>\n",
       "      <td>18.5</td>\n",
       "      <td>-8.1</td>\n",
       "      <td>-8.9</td>\n",
       "      <td>-10.4</td>\n",
       "    </tr>\n",
       "    <tr>\n",
       "      <th>Sep 1983</th>\n",
       "      <td>-8.1</td>\n",
       "      <td>-8.9</td>\n",
       "      <td>-10.4</td>\n",
       "      <td>-21.5</td>\n",
       "    </tr>\n",
       "    <tr>\n",
       "      <th>Oct 1983</th>\n",
       "      <td>-8.9</td>\n",
       "      <td>-10.4</td>\n",
       "      <td>-21.5</td>\n",
       "      <td>5.5</td>\n",
       "    </tr>\n",
       "    <tr>\n",
       "      <th>Nov 1983</th>\n",
       "      <td>-10.4</td>\n",
       "      <td>-21.5</td>\n",
       "      <td>5.5</td>\n",
       "      <td>-22.5</td>\n",
       "    </tr>\n",
       "    <tr>\n",
       "      <th>Dec 1983</th>\n",
       "      <td>-21.5</td>\n",
       "      <td>5.5</td>\n",
       "      <td>-22.5</td>\n",
       "      <td>0.1</td>\n",
       "    </tr>\n",
       "  </tbody>\n",
       "</table>\n",
       "<p>2816 rows × 4 columns</p>\n",
       "</div>"
      ],
      "text/plain": [
       "          Series(t-2)  Series(t-1)  Series(t-0)  Series(t+1)\n",
       "May 1749          4.6          7.4        -14.3         29.3\n",
       "Jun 1749          7.4        -14.3         29.3         -1.5\n",
       "Jul 1749        -14.3         29.3         -1.5         11.3\n",
       "Aug 1749         29.3         -1.5         11.3        -28.5\n",
       "Sep 1749         -1.5         11.3        -28.5          9.6\n",
       "...               ...          ...          ...          ...\n",
       "Aug 1983         18.5         -8.1         -8.9        -10.4\n",
       "Sep 1983         -8.1         -8.9        -10.4        -21.5\n",
       "Oct 1983         -8.9        -10.4        -21.5          5.5\n",
       "Nov 1983        -10.4        -21.5          5.5        -22.5\n",
       "Dec 1983        -21.5          5.5        -22.5          0.1\n",
       "\n",
       "[2816 rows x 4 columns]"
      ]
     },
     "execution_count": 8,
     "metadata": {},
     "output_type": "execute_result"
    }
   ],
   "source": [
    "# using 3 lags (n_lags=3) to predict the next value (horizon=1)\n",
    "ts = time_delay_embedding(series=series, n_lags=3, horizon=1)\n",
    "ts"
   ]
  },
  {
   "cell_type": "code",
   "execution_count": 9,
   "metadata": {},
   "outputs": [],
   "source": [
    "target_columns = ts.columns.str.contains('\\+')\n",
    "X = ts.iloc[:, ~target_columns]\n",
    "y = ts.iloc[:, target_columns]"
   ]
  },
  {
   "cell_type": "code",
   "execution_count": 10,
   "metadata": {},
   "outputs": [],
   "source": [
    "X_train, X_test, y_train, y_test = train_test_split(X, y, test_size=0.33, shuffle=False)"
   ]
  },
  {
   "cell_type": "code",
   "execution_count": 11,
   "metadata": {},
   "outputs": [
    {
     "data": {
      "text/plain": [
       "13.657167898702033"
      ]
     },
     "execution_count": 11,
     "metadata": {},
     "output_type": "execute_result"
    }
   ],
   "source": [
    "model = RandomForestRegressor()\n",
    "model.fit(X_train, y_train)\n",
    "\n",
    "pred = model.predict(X_test)\n",
    "mae(y_test, pred)"
   ]
  },
  {
   "attachments": {},
   "cell_type": "markdown",
   "metadata": {},
   "source": [
    "피처 추가해보기"
   ]
  },
  {
   "cell_type": "code",
   "execution_count": 12,
   "metadata": {},
   "outputs": [
    {
     "data": {
      "text/plain": [
       "13.233553931046432"
      ]
     },
     "execution_count": 12,
     "metadata": {},
     "output_type": "execute_result"
    }
   ],
   "source": [
    "series = load_sunspots(as_series=True).diff() # 안정된 평균을 구하기 위해 1차 차분을 받아옴\n",
    "# using 3 lags (n_lags=3) to predict the next value (horizon=1)\n",
    "ts = time_delay_embedding(series=series, n_lags=3, horizon=1)\n",
    "\n",
    "target_columns = ts.columns.str.contains('\\+')\n",
    "X = ts.iloc[:, ~target_columns]\n",
    "y = ts.iloc[:, target_columns]\n",
    "\n",
    "X_train, X_test, y_train, y_test = train_test_split(X, y, test_size=0.33, shuffle=False)\n",
    "\n",
    "# 평균을 피처로 추가하기\n",
    "X_train['mean'] = X_train.mean(axis = 1)\n",
    "X_test['mean'] = X_test.mean(axis = 1)\n",
    "\n",
    "\n",
    "model = RandomForestRegressor()\n",
    "model.fit(X_train, y_train)\n",
    "\n",
    "pred = model.predict(X_test)\n",
    "mae(y_test, pred)"
   ]
  },
  {
   "attachments": {},
   "cell_type": "markdown",
   "metadata": {},
   "source": [
    "- 성능이 약간 개선되었다."
   ]
  },
  {
   "cell_type": "code",
   "execution_count": null,
   "metadata": {},
   "outputs": [],
   "source": []
  }
 ],
 "metadata": {
  "kernelspec": {
   "display_name": "torch",
   "language": "python",
   "name": "python3"
  },
  "language_info": {
   "codemirror_mode": {
    "name": "ipython",
    "version": 3
   },
   "file_extension": ".py",
   "mimetype": "text/x-python",
   "name": "python",
   "nbconvert_exporter": "python",
   "pygments_lexer": "ipython3",
   "version": "3.9.12"
  },
  "orig_nbformat": 4
 },
 "nbformat": 4,
 "nbformat_minor": 2
}
